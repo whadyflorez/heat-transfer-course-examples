{
  "nbformat": 4,
  "nbformat_minor": 0,
  "metadata": {
    "colab": {
      "provenance": []
    },
    "kernelspec": {
      "name": "python3",
      "display_name": "Python 3"
    },
    "language_info": {
      "name": "python"
    }
  },
  "cells": [
    {
      "cell_type": "code",
      "execution_count": 9,
      "metadata": {
        "colab": {
          "base_uri": "https://localhost:8080/"
        },
        "id": "Z4Gdzq0QllxW",
        "outputId": "ea55059b-3672-4380-a7e3-f19ec2c350b3"
      },
      "outputs": [
        {
          "output_type": "stream",
          "name": "stdout",
          "text": [
            "402.60838360770185\n",
            "411.699292698611\n",
            "22.53795197632583\n"
          ]
        }
      ],
      "source": [
        "import numpy as np\n",
        "from scipy.special import k1,i1,k0,i0\n",
        "\n",
        "ro=95e-3\n",
        "r2=75e-3\n",
        "r1=66e-3\n",
        "ri=60e-3\n",
        "t=2e-3\n",
        "d=2e-3\n",
        "h=100\n",
        "kf=240\n",
        "kt=50\n",
        "qi=1e5\n",
        "Tm=320\n",
        "m=np.sqrt(2*h/(kf*t))\n",
        "Af=2*np.pi*(ro**2-r2**2)+2*np.pi*ro*t\n",
        "nf=(2*r2)/(m*(ro**2-r2**2))*(k1(m*r2)*i1(m*ro)-i1(m*r2)*k1(m*ro))/(k0(m*r2)*i1(m*ro)+i0(m*r2)*k1(m*ro))\n",
        "Rf=1/(h*Af*nf)\n",
        "Ab=2*np.pi*r2*d\n",
        "Rb=1/(h*Ab)\n",
        "Rp=1/(1/Rf+1/Rb)\n",
        "Rc=np.log(r2/r1)/(2*np.pi*kf*(d+t))\n",
        "Rt=np.log(r1/ri)/(2*np.pi*kt*(d+t))\n",
        "Req=Rp+Rc+Rt\n",
        "Ti=qi*(2*np.pi*ri*(t+d))*Req+Tm\n",
        "print(Ti)\n",
        "Rcont=1e-4/(2*np.pi*r1*(t+d))\n",
        "Req2=Req+Rcont\n",
        "\n",
        "Tinueva=qi*(2*np.pi*ri*(t+d))*Req2+Tm\n",
        "print(Tinueva)\n",
        "\n",
        "Tb=qi*(2*np.pi*ri*(t+d))*Rp+Tm\n",
        "qf=h*Af*nf*(Tb-Tm)\n",
        "eff=qf/(h*(2*np.pi*r2*t)*(Tb-Tm))\n",
        "print(eff)\n",
        "\n",
        "\n"
      ]
    }
  ]
}